{
 "cells": [
  {
   "cell_type": "raw",
   "id": "ae5f9331",
   "metadata": {
    "vscode": {
     "languageId": "raw"
    }
   },
   "source": [
    "---\n",
    "layout: post\n",
    "title: \"Crashers - 3.17 Algorithmic Efficiency\"\n",
    "categories: [Programming Fundamentals, Tutorial]\n",
    "tags: [python, javascript, algorithms, lesson, beginner]\n",
    "description: Learn about algorithms and how they can be more or less efficient\n",
    "permalink: /csp/developing-algorithms/crashers\n",
    "---"
   ]
  },
  {
   "cell_type": "markdown",
   "id": "3e7c3dcf",
   "metadata": {},
   "source": [
    "## Computer Science Principles Lesson 3.17 - Algorithmic Efficiency"
   ]
  },
  {
   "cell_type": "markdown",
   "id": "aabf5407",
   "metadata": {},
   "source": [
    "### What Does \"Algorithmic Efficiency\" Mean?\n",
    "\n",
    "- Algorithmic efficiency is important in coding.\n",
    "- It means how fast an algorithm is and how much memory an algorithm uses.\n",
    "- More efficient = quicker and less memory used."
   ]
  },
  {
   "cell_type": "markdown",
   "id": "94678be3",
   "metadata": {},
   "source": [
    "<html>\n",
    "    <head>\n",
    "        <style>\n",
    "            #toggle {\n",
    "                background-color: 'blue';\n",
    "            }\n",
    "        </style>\n",
    "    </head>\n",
    "    <body>\n",
    "        <h2>Demonstration: How efficiently can you get from point A to B?</h2>\n",
    "        <p>click the buttons to turn them red, try to see different paths you can take from left to right!</p>\n",
    "        <button id=\"toggle\" style=\"border-radius: 0px; border-width: 0px; margin: 0px;\" onClick=\"this.style.backgroundColor = this.style.backgroundColor == 'buttonface'? 'red' : 'buttonface';\">-</button> <button id=\"toggle\" style=\"border-radius: 0px; border-width: 0px; margin: 0px;\" onClick=\"this.style.backgroundColor = this.style.backgroundColor == 'buttonface'? 'red' : 'buttonface';\">-</button> <button id=\"toggle\" style=\"border-radius: 0px; border-width: 0px; margin: 0px;\" onClick=\"this.style.backgroundColor = this.style.backgroundColor == 'buttonface'? 'red' : 'buttonface';\">-</button> <button id=\"toggle\" style=\"border-radius: 0px; border-width: 0px; margin: 0px;\" onClick=\"this.style.backgroundColor = this.style.backgroundColor == 'buttonface'? 'red' : 'buttonface';\">-</button> <button id=\"toggle\" style=\"border-radius: 0px; border-width: 0px; margin: 0px;\" onClick=\"this.style.backgroundColor = this.style.backgroundColor == 'buttonface'? 'red' : 'buttonface';\">-</button><br><button id=\"toggle\" style=\"border-radius: 0px; border-width: 0px; margin: 0px;\" onClick=\"this.style.backgroundColor = this.style.backgroundColor == 'buttonface'? 'red' : 'buttonface';\">-</button> <button id=\"toggle\" style=\"border-radius: 0px; border-width: 0px; margin: 0px;\" onClick=\"this.style.backgroundColor = this.style.backgroundColor == 'buttonface'? 'red' : 'buttonface';\">-</button> <button id=\"toggle\" style=\"border-radius: 0px; border-width: 0px; margin: 0px;\" onClick=\"this.style.backgroundColor = this.style.backgroundColor == 'buttonface'? 'red' : 'buttonface';\">-</button> <button id=\"toggle\" style=\"border-radius: 0px; border-width: 0px; margin: 0px;\" onClick=\"this.style.backgroundColor = this.style.backgroundColor == 'buttonface'? 'red' : 'buttonface';\">-</button> <button id=\"toggle\" style=\"border-radius: 0px; border-width: 0px; margin: 0px;\" onClick=\"this.style.backgroundColor = this.style.backgroundColor == 'buttonface'? 'red' : 'buttonface';\">-</button><br><button id=\"toggle\" style=\"border-radius: 0px; border-width: 0px; margin: 0px;\" onClick=\"this.style.backgroundColor = this.style.backgroundColor == 'buttonface'? 'red' : 'buttonface';\">-</button> <button id=\"toggle\" style=\"border-radius: 0px; border-width: 0px; margin: 0px;\" onClick=\"this.style.backgroundColor = this.style.backgroundColor == 'buttonface'? 'red' : 'buttonface';\">-</button> <button id=\"toggle\" style=\"border-radius: 0px; border-width: 0px; margin: 0px;\" onClick=\"this.style.backgroundColor = this.style.backgroundColor == 'buttonface'? 'red' : 'buttonface';\">-</button> <button id=\"toggle\" style=\"border-radius: 0px; border-width: 0px; margin: 0px;\" onClick=\"this.style.backgroundColor = this.style.backgroundColor == 'buttonface'? 'red' : 'buttonface';\">-</button> <button id=\"toggle\" style=\"border-radius: 0px; border-width: 0px; margin: 0px;\" onClick=\"this.style.backgroundColor = this.style.backgroundColor == 'buttonface'? 'red' : 'buttonface';\">-</button><br><button id=\"toggle\" style=\"border-radius: 0px; border-width: 0px; margin: 0px;\" onClick=\"this.style.backgroundColor = this.style.backgroundColor == 'buttonface'? 'red' : 'buttonface';\">-</button> <button id=\"toggle\" style=\"border-radius: 0px; border-width: 0px; margin: 0px;\" onClick=\"this.style.backgroundColor = this.style.backgroundColor == 'buttonface'? 'red' : 'buttonface';\">-</button> <button id=\"toggle\" style=\"border-radius: 0px; border-width: 0px; margin: 0px;\" onClick=\"this.style.backgroundColor = this.style.backgroundColor == 'buttonface'? 'red' : 'buttonface';\">-</button> <button id=\"toggle\" style=\"border-radius: 0px; border-width: 0px; margin: 0px;\" onClick=\"this.style.backgroundColor = this.style.backgroundColor == 'buttonface'? 'red' : 'buttonface';\">-</button> <button id=\"toggle\" style=\"border-radius: 0px; border-width: 0px; margin: 0px;\" onClick=\"this.style.backgroundColor = this.style.backgroundColor == 'buttonface'? 'red' : 'buttonface';\">-</button><br><button id=\"toggle\" style=\"border-radius: 0px; border-width: 0px; margin: 0px;\" onClick=\"this.style.backgroundColor = this.style.backgroundColor == 'buttonface'? 'red' : 'buttonface';\">-</button> <button id=\"toggle\" style=\"border-radius: 0px; border-width: 0px; margin: 0px;\" onClick=\"this.style.backgroundColor = this.style.backgroundColor == 'buttonface'? 'red' : 'buttonface';\">-</button> <button id=\"toggle\" style=\"border-radius: 0px; border-width: 0px; margin: 0px;\" onClick=\"this.style.backgroundColor = this.style.backgroundColor == 'buttonface'? 'red' : 'buttonface';\">-</button> <button id=\"toggle\" style=\"border-radius: 0px; border-width: 0px; margin: 0px;\" onClick=\"this.style.backgroundColor = this.style.backgroundColor == 'buttonface'? 'red' : 'buttonface';\">-</button> <button id=\"toggle\" style=\"border-radius: 0px; border-width: 0px; margin: 0px;\" onClick=\"this.style.backgroundColor = this.style.backgroundColor == 'buttonface'? 'red' : 'buttonface';\">-</button><br>\n",
    "    </body>\n",
    "</html>"
   ]
  },
  {
   "cell_type": "markdown",
   "id": "ad432db5",
   "metadata": {},
   "source": [
    "## Demonstration 2: Same output, different time.\n",
    "\n",
    "These two buttons get to the same endpoint, but requre different amounts of steps to reach.\n",
    "\n",
    "<html>\n",
    "    <body>\n",
    "        <button onClick=\"this.innerText = (Number(this.innerText) + 1)%9\">0</button> <button onClick=\"this.innerText = (Number(this.innerText) + 2)%10\">0</button>\n",
    "    </body>\n",
    "</html>"
   ]
  },
  {
   "cell_type": "markdown",
   "id": "763282b0",
   "metadata": {},
   "source": [
    "### What's So Important About Algorithmic Efficiency?\n",
    "\n",
    "- Processing power and time are limited.\n",
    "- Efficient algorithms finish quickly and use little RAM.\n",
    "- Inefficient algorithms can take a long time and use lots of resources."
   ]
  },
  {
   "cell_type": "markdown",
   "id": "19a99823",
   "metadata": {},
   "source": [
    "### How do We Measure Algorithmic Efficiency?\n",
    "\n",
    "- Algorithmic efficiency is about how much time and memory an algorithm uses.\n",
    "- Time complexity is measured using **Big-O Notation**.\n",
    "- **Big-O Notation** describes how the number of steps grows as the input size increases.\n",
    "- It helps us compare different algorithms and predict which will be faster for large inputs.\n",
    "- Big-O doesn't give the exact number of steps, but shows how quickly work increases as problems get bigger.\n",
    "- Common Big-O examples: O(1) (constant), O(n) (linear), O(n^2) (quadratic), O(2^n) (exponential).\n",
    "- Memory usage is often related to time complexity and can also be described with Big-O."
   ]
  },
  {
   "cell_type": "markdown",
   "id": "ffd6ba72",
   "metadata": {},
   "source": [
    "#### What do these Big-O types mean?\n",
    "\n",
    "- **O(1) Constant:** The algorithm always takes the same number of steps, no matter how big the input is. Example: Checking if a number is even.\n",
    "- **O(n) Linear:** The number of steps grows directly with the input size. Example: Looking at every item in a list.\n",
    "- **O(n²) Quadratic:** The steps grow much faster—if you double the input, the work is four times as much. Example: Comparing every item in a list to every other item.\n",
    "- **O(2ⁿ) Exponential:** The steps double with every extra input—very quickly becomes huge! Example: Trying every possible combination in a puzzle."
   ]
  },
  {
   "cell_type": "markdown",
   "id": "3477bc73",
   "metadata": {},
   "source": [
    "### Example: Designing Algorithms and Measuring Their Efficiency Using Python\n",
    "\n",
    "Let's create an algorithm and see how algorithmically efficient it is using Big-O notation."
   ]
  },
  {
   "cell_type": "code",
   "execution_count": null,
   "id": "86d17da7",
   "metadata": {},
   "outputs": [],
   "source": [
    "# Define some simple variables\n",
    "index = 0\n",
    "amount = 10\n",
    "\n",
    "# The algorithm we'll be analyzing:\n",
    "while index < amount:\n",
    "    print(\"I love Python!\")\n",
    "    index += 1"
   ]
  },
  {
   "cell_type": "markdown",
   "id": "aea1bf7c",
   "metadata": {},
   "source": [
    "- The code repeats while 'index' is less than 'amount'.\n",
    "- Each time, 'index' increases by 1.\n",
    "- The loop runs 'amount' times, so the computer does one extra step for each extra value of 'amount'.\n",
    "- This is O(n) time complexity: n steps for n inputs.\n",
    "- 'print()' and 'index += 1' are O(1) (one step each).\n",
    "- Overall, this algorithm is O(n) time complexity."
   ]
  },
  {
   "cell_type": "markdown",
   "id": "021f4b95",
   "metadata": {},
   "source": [
    "### Example: Designing Algorithms and Measuring Their Efficiency Using Javascript\n",
    "\n",
    "Let's create an algorithm and see how algorithmically efficient it is using Big-O notation, however this time we'll use Javascript."
   ]
  },
  {
   "cell_type": "code",
   "execution_count": null,
   "id": "e27bc6fd",
   "metadata": {
    "vscode": {
     "languageId": "javascript"
    }
   },
   "outputs": [
    {
     "data": {
      "application/javascript": "const amount = 8;\nlet outerIndex = 0;\nlet innerIndex = 0;\nlet overallIndex = 0;\n\nwhile (outerIndex < amount) {\n    innerIndex = 0;\n    while (innerIndex < amount) {\n        overallIndex++;\n        console.log(`Iteration #${overallIndex}`);\n        innerIndex++;\n    }\n    outerIndex++;\n}\n",
      "text/plain": [
       "<IPython.core.display.Javascript object>"
      ]
     },
     "metadata": {},
     "output_type": "display_data"
    }
   ],
   "source": [
    "%%js\n",
    "// Define variables\n",
    "const amount = 8;\n",
    "let outerIndex = 0;\n",
    "let innerIndex = 0;\n",
    "let overallIndex = 0;\n",
    "\n",
    "// The algorithm we'll be analyzing:\n",
    "while (outerIndex < amount) { //Outer loop\n",
    "    innerIndex = 0;\n",
    "    while (innerIndex < amount) { //Inner loop\n",
    "        overallIndex++;\n",
    "        console.log(`Iteration #${overallIndex}`);\n",
    "        innerIndex++;\n",
    "    }\n",
    "    outerIndex++;\n",
    "}"
   ]
  },
  {
   "cell_type": "markdown",
   "id": "c3bff9a1",
   "metadata": {},
   "source": [
    "- The outer loop runs 'amount' times.\n",
    "- The inner loop also runs 'amount' times for each outer loop.\n",
    "- The whole thing runs 'amount' times, 'amount' times!\n",
    "- Outer loop: O(n), inner loop: O(n).\n",
    "- Multiply them: O(n * n) = O(n^2).\n",
    "- So, this algorithm's time complexity is O(n^2)."
   ]
  }
 ],
 "metadata": {
  "kernelspec": {
   "display_name": "Python 3",
   "language": "python",
   "name": "python3"
  },
  "language_info": {
   "codemirror_mode": {
    "name": "ipython",
    "version": 3
   },
   "file_extension": ".py",
   "mimetype": "text/x-python",
   "name": "python",
   "nbconvert_exporter": "python",
   "pygments_lexer": "ipython3",
   "version": "3.12.3"
  }
 },
 "nbformat": 4,
 "nbformat_minor": 5
}
