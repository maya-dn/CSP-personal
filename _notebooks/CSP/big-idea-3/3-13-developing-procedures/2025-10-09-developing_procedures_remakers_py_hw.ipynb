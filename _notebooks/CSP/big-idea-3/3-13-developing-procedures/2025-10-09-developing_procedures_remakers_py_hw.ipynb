{
 "cells": [
  {
   "cell_type": "raw",
   "id": "29fdb64f",
   "metadata": {
    "vscode": {
     "languageId": "raw"
    }
   },
   "source": [
    "---\n",
    "toc: true\n",
    "layout: post\n",
    "categories: [Python]\n",
    "title: Remakers - 3.13 Developing Procedures Python Hacks\n",
    "description: \"Apply your skills to basic procedure development in Javascript.\"\n",
    "permalink: /python/developing-procedures/remakers-hw\n",
    "author: Krishna Visvanath, Sloane Sommers\n",
    "---"
   ]
  },
  {
   "cell_type": "markdown",
   "id": "51406078",
   "metadata": {},
   "source": [
    "### Q1 (Easy)\n",
    "Which of these procedures is named well, provide a **short** explanation of justification"
   ]
  },
  {
   "cell_type": "code",
   "execution_count": null,
   "id": "85877c5a",
   "metadata": {},
   "outputs": [],
   "source": [
    "def mix_ingredients():\n",
    "\n",
    "def do_it():\n",
    "\n",
    "def make_move():"
   ]
  },
  {
   "cell_type": "markdown",
   "id": "e05b98ef",
   "metadata": {},
   "source": [
    "**Explanation Here:**\n",
    "mix_ingredients is right because it's the most specific out of the three and is short and simple to understand"
   ]
  },
  {
   "cell_type": "markdown",
   "id": "3b2e2e46",
   "metadata": {},
   "source": [
    "### Q2 (Medium)\n",
    "Finish the code to have a correctly named procedure"
   ]
  },
  {
   "cell_type": "code",
   "execution_count": 1,
   "id": "e6d4b833",
   "metadata": {},
   "outputs": [
    {
     "name": "stdout",
     "output_type": "stream",
     "text": [
      "Moving forward.\n",
      "Turning left\n",
      "Moving forward again to complete left turn.\n"
     ]
    }
   ],
   "source": [
    "def make_left_turn():\n",
    "    move_forward()\n",
    "    rotate_180()\n",
    "    move_forward_again()\n",
    "\n",
    "def move_forward():\n",
    "    print(\"Moving forward.\")\n",
    "\n",
    "def rotate_180():\n",
    "    print(\"Turning left\")\n",
    "\n",
    "def move_forward_again():\n",
    "    print(\"Moving forward again to complete left turn.\")\n",
    "\n",
    "# Run the procedure\n",
    "if __name__ == '__main__':\n",
    "    make_left_turn()"
   ]
  },
  {
   "cell_type": "markdown",
   "id": "81c68339",
   "metadata": {},
   "source": [
    "### Q3 (Hard)\n",
    "Write code to fulfill the requirements\n",
    "Doing a dance! 🕺💃\n",
    "Must have\n",
    "1. A shimmy left procedure\n",
    "- Print `super cool left slide`\n",
    "2. A shimmy right procedure, print `even cooler right slide`\n",
    "3. Doing a bow to the crowd, print `Great dance!`, `the audience claps at your bow!`"
   ]
  },
  {
   "cell_type": "code",
   "execution_count": 3,
   "id": "9f7c7c6f",
   "metadata": {},
   "outputs": [
    {
     "name": "stdout",
     "output_type": "stream",
     "text": [
      "shimmies left\n",
      "super cool left slide\n",
      "shimmies right\n",
      "great dance!\n",
      "the audience claps at your bow!\n"
     ]
    }
   ],
   "source": [
    "def cool_dance():\n",
    "    shimmy_left()\n",
    "    left_slide()\n",
    "    right_slide()\n",
    "    the_end()\n",
    "\n",
    "def shimmy_left():\n",
    "    print(\"shimmies left\")\n",
    "\n",
    "def left_slide():\n",
    "    print(\"super cool left slide\")\n",
    "\n",
    "def right_slide():\n",
    "    print(\"shimmies right\")\n",
    "\n",
    "def the_end():\n",
    "    print(\"great dance!\")\n",
    "    print(\"the audience claps at your bow!\")\n",
    "\n",
    "cool_dance()"
   ]
  }
 ],
 "metadata": {
  "kernelspec": {
   "display_name": "venv",
   "language": "python",
   "name": "python3"
  },
  "language_info": {
   "codemirror_mode": {
    "name": "ipython",
    "version": 3
   },
   "file_extension": ".py",
   "mimetype": "text/x-python",
   "name": "python",
   "nbconvert_exporter": "python",
   "pygments_lexer": "ipython3",
   "version": "3.12.3"
  }
 },
 "nbformat": 4,
 "nbformat_minor": 5
}
