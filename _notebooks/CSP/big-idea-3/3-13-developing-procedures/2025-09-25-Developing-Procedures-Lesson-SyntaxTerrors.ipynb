{
 "cells": [
  {
   "cell_type": "code",
   "execution_count": null,
   "id": "2b34f512",
   "metadata": {
    "vscode": {
     "languageId": "yaml"
    }
   },
   "outputs": [],
   "source": [
    "---\n",
    "layout: tailwindPost\n",
    "infoGraph: developingprocedures\n",
    "title: Coding Concept - Developing Procedures\n",
    "description: Understanding Developing Procedures in Python and JavaScript\n",
    "permalink: /csp/big-idea-three/developingprocedures/lesson/p3/syntaxterrors\n",
    "author: Hope F\n",
    "---"
   ]
  },
  {
   "cell_type": "markdown",
   "id": "c19735c2",
   "metadata": {},
   "source": [
    "## 3.13 Developing Procedures - Syntax Terrors "
   ]
  },
  {
   "cell_type": "markdown",
   "id": "d3e3b831",
   "metadata": {},
   "source": [
    "{%- include tailwind/tabs.html -%}"
   ]
  }
 ],
 "metadata": {
  "language_info": {
   "name": "python"
  }
 },
 "nbformat": 4,
 "nbformat_minor": 5
}
