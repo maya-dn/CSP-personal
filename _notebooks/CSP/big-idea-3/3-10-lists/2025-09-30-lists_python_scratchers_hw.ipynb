{
 "cells": [
  {
   "cell_type": "raw",
   "id": "6676fbba",
   "metadata": {
    "vscode": {
     "languageId": "raw"
    }
   },
   "source": [
    "---\n",
    "layout: post\n",
    "title: Lists Hacks Python\n",
    "description: This is a CSP Hacks notebook based on the lists lesson\n",
    "comments: true\n",
    "permalink: /csp/big-idea-3/<lists>/<4>/python_hw\n",
    "---"
   ]
  },
  {
   "cell_type": "markdown",
   "id": "b52a2664",
   "metadata": {},
   "source": [
    "# Python Lists Homework"
   ]
  },
  {
   "cell_type": "markdown",
   "id": "b85e23b6",
   "metadata": {},
   "source": [
    "- After going through the lists lesson work on these hacks in your own repository"
   ]
  },
  {
   "cell_type": "markdown",
   "id": "0eef752c",
   "metadata": {},
   "source": [
    "### Hack 1 – Add Up Numbers\n",
    "\n",
    "Make a list of numbers. Write code to:\n",
    "1. Find the total sum.\n",
    "2. Find the average."
   ]
  },
  {
   "cell_type": "code",
   "execution_count": null,
   "id": "9eb9fc42",
   "metadata": {},
   "outputs": [],
   "source": [
    "# Hack 1 – Add Up Numbers\n",
    "numbers = [4, 7, 1, 9, 6, 7, 10]\n",
    "\n",
    "# Write your code here:\n",
    "total = 0\n",
    "for number in numbers:\n",
    "    total += numbers\n",
    "\n",
    "print(f\"Total points: {total}\")  # 438\n",
    "\n",
    "# Calculate average\n",
    "average = total / len(scores)\n",
    "print(f\"Average score: {average}\")  # 87.6"
   ]
  },
  {
   "cell_type": "markdown",
   "id": "46f14089",
   "metadata": {},
   "source": [
    "### Hack 2 – Count Repeats\n",
    "\n",
    "Make a list with repeated items. Write code to count how many times each item appears."
   ]
  },
  {
   "cell_type": "code",
   "execution_count": null,
   "id": "c8224c2e",
   "metadata": {},
   "outputs": [],
   "source": [
    "# Hack 2 – Count Repeats\n",
    "items = [\"cat\", \"dog\", \"cat\", \"bird\", \"bird\", \"bird\"]\n",
    "\n",
    "# Write your code here:\n",
    "frequency = {}\n",
    "\n",
    "# Count each item\n",
    "for item in items:\n",
    "    if item in frequency:\n",
    "        frequency[item] += 1\n",
    "    else:\n",
    "        frequency[item] = 1\n",
    "\n",
    "print(frequency)"
   ]
  },
  {
   "cell_type": "markdown",
   "id": "714f85a7",
   "metadata": {},
   "source": [
    "### Hack 3 – Keep Only Evens\n",
    "\n",
    "Make a list of numbers. Write code to create a new list with only even numbers."
   ]
  },
  {
   "cell_type": "code",
   "execution_count": null,
   "id": "a9e5c292",
   "metadata": {},
   "outputs": [],
   "source": [
    "# Hack 3 – Keep Only Evens\n",
    "numbers = [3, 8, 5, 12, 7, 9, 13, 31, 66, 18]\n",
    "\n",
    "# Write your code here:\n"
   ]
  }
 ],
 "metadata": {
  "kernelspec": {
   "display_name": "venv",
   "language": "python",
   "name": "python3"
  },
  "language_info": {
   "name": "python",
   "version": "3.12.3"
  }
 },
 "nbformat": 4,
 "nbformat_minor": 5
}
