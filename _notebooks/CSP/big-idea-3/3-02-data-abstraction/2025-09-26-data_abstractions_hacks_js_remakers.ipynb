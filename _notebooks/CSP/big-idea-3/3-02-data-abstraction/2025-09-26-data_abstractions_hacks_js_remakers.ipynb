{
 "cells": [
  {
   "cell_type": "code",
   "execution_count": null,
   "id": "e4102f0e",
   "metadata": {},
   "outputs": [],
   "source": [
    "---\n",
    "toc: true\n",
    "comments: false\n",
    "layout: post\n",
    "categories: [CSP Big Idea 3]\n",
    "title: 3.2 Data Abstractions JS Hack\n",
    "author: Jaynee Chauhan, Michelle Ji, Lucas Masterson\n",
    "description: Hack(s) for intro to data abstractions in JS.\n",
    "type: ccc\n",
    "permalink: /csp/big-idea-3/data-abstractions/p4/hacks-js\n",
    "---"
   ]
  },
  {
   "cell_type": "markdown",
   "id": "690b4172",
   "metadata": {},
   "source": [
    "## JS Lab: Library\n",
    "\n",
    "In this lab, similarly to the Python lab, you'll be working on a simple \"database\" for a library to understand CRUD operations in relation to representing redundant, similar data under one structure -- an abstraction.\n",
    "\n",
    "For JavaScript, you'll have to open the web console from Developer Tools (`ctrl + shift + p` -> `Developer: Toggle developer tools`)."
   ]
  },
  {
   "cell_type": "code",
   "execution_count": null,
   "id": "d7228dda",
   "metadata": {
    "vscode": {
     "languageId": "javascript"
    }
   },
   "outputs": [
    {
     "ename": "SyntaxError",
     "evalue": "unterminated string literal (detected at line 23) (39286531.py, line 23)",
     "output_type": "error",
     "traceback": [
      "\u001b[0;36m  Cell \u001b[0;32mIn[1], line 23\u001b[0;36m\u001b[0m\n\u001b[0;31m    // Use array's push() method to add new books.\u001b[0m\n\u001b[0m                ^\u001b[0m\n\u001b[0;31mSyntaxError\u001b[0m\u001b[0;31m:\u001b[0m unterminated string literal (detected at line 23)\n"
     ]
    }
   ],
   "source": [
    "// Our \"database\" is an array of objects, each representing a book in a library.\n",
    "// Arrays allow us to store multiple records in a single variable, making it easy to manage collections of data.\n",
    "let library = [\n",
    "    { title: \"1984\", author: \"George Orwell\", checkedOut: false },\n",
    "    { title: \"To Kill a Mockingbird\", author: \"Harper Lee\", checkedOut: true },\n",
    "    { title: \"The Great Gatsby\", author: \"F. Scott Fitzgerald\", checkedOut: false }\n",
    "];\n",
    "\n",
    "// Arrays provide order and allow us to add, remove, or update records efficiently.\n",
    "// Each element in the array is an object, which abstracts the details of each book.\n",
    "\n",
    "// Function to display all books\n",
    "function displayLibrary(lib) {\n",
    "    console.log(\"All books in the library:\");\n",
    "    lib.forEach((book, i) => {\n",
    "        console.log(`Index ${i}:`, book);\n",
    "    });\n",
    "}\n",
    "\n",
    "// Function to add a new book (students: implement prompt and push logic)\n",
    "function addBook(lib) {\n",
    "    const title = prompt(\"Enter the book title:\");\n",
    "    const author = prompt(\"Enter the author name:\");\n",
    "    const checkedOutInput = prompt(\"Is the book checked out? (yes/no):\");\n",
    "    const checkedOut = checkedOutInput.toLowerCase() === \"yes\";\n",
    "\n",
    "    const newBook = { title, author, checkedOut };\n",
    "    lib.push(newBook);\n",
    "    console.log(`✅ Added \"${title}\" by ${author}.`);\n",
    "}\n",
    "\n",
    "// Function to find a book by title (students: implement search logic)\n",
    "function findBook(lib, searchTitle) {\n",
    "    const book = lib.find(b => b.title.toLowerCase() === searchTitle.toLowerCase());\n",
    "    if (book) {\n",
    "        console.log(`🔎 Found:`, book);\n",
    "    } else {\n",
    "        console.log(`❌ No book found with the title \"${searchTitle}\".`);\n",
    "    }\n",
    "}\n",
    "\n",
    "// Function to update a book's checkedOut status (students: implement update logic)\n",
    "function updateBook(lib, searchTitle) {\n",
    "    const book = lib.find(b => b.title.toLowerCase() === searchTitle.toLowerCase());\n",
    "    if (book) {\n",
    "        const newStatusInput = prompt(`Is \"${book.title}\" checked out now? (yes/no):`);\n",
    "        book.checkedOut = newStatusInput.toLowerCase() === \"yes\";\n",
    "        console.log(`✏️ Updated \"${book.title}\" → checkedOut: ${book.checkedOut}`);\n",
    "    } else {\n",
    "        console.log(`❌ No book found with the title \"${searchTitle}\".`);\n",
    "    }\n",
    "}\n",
    "\n",
    "// Function to delete a book (students: implement delete logic)\n",
    "function deleteBook(lib, searchTitle) {\n",
    "    function deleteBook(lib, searchTitle) {\n",
    "    const index = lib.findIndex(b => b.title.toLowerCase() === searchTitle.toLowerCase());\n",
    "    if (index !== -1) {\n",
    "        const removed = lib.splice(index, 1);\n",
    "        console.log(`🗑️ Deleted \"${removed[0].title}\" from the library.`);\n",
    "    } else {\n",
    "        console.log(`❌ No book found with the title \"${searchTitle}\".`);\n",
    "    }\n",
    "}\n",
    "\n",
    "// Example usage\n",
    "displayLibrary(library);\n",
    "// Students: Uncomment and complete the following as you implement\n",
    "// addBook(library);\n",
    "// findBook(library, \"1984\");\n",
    "// updateBook(library, \"To Kill a Mockingbird\");\n",
    "// deleteBook(library, \"The Great Gatsby\");"
   ]
  }
 ],
 "metadata": {
  "kernelspec": {
   "display_name": "Python 3",
   "language": "python",
   "name": "python3"
  },
  "language_info": {
   "codemirror_mode": {
    "name": "ipython",
    "version": 3
   },
   "file_extension": ".py",
   "mimetype": "text/x-python",
   "name": "python",
   "nbconvert_exporter": "python",
   "pygments_lexer": "ipython3",
   "version": "3.12.3"
  }
 },
 "nbformat": 4,
 "nbformat_minor": 5
}
