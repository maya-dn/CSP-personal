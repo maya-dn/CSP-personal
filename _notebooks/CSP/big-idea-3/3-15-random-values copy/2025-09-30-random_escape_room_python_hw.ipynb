{
 "cells": [
  {
   "cell_type": "raw",
   "id": "6e07d1a7",
   "metadata": {
    "vscode": {
     "languageId": "raw"
    }
   },
   "source": [
    "---\n",
    "layout: post\n",
    "title: \"Escape Room 3.15 - Hacks & Extensions\"\n",
    "description: \"Extended Python challenges and hacks for CSP 3.15 Escape Room - Random Values\"\n",
    "type: hacks\n",
    "toc: true\n",
    "comments: true\n",
    "permalink: /3.15/homework/python\n",
    "author: Team Debuggers\n",
    "---\n"
   ]
  },
  {
   "cell_type": "markdown",
   "id": "9f874417",
   "metadata": {},
   "source": [
    "# 🚀 Escape Room Python Hacks\n"
   ]
  },
  {
   "cell_type": "markdown",
   "id": "7aedbe34",
   "metadata": {},
   "source": [
    "1. Simulate rolling two dice and show all possible sums of their outcomes."
   ]
  },
  {
   "cell_type": "code",
   "execution_count": 3,
   "id": "a73638bf",
   "metadata": {},
   "outputs": [
    {
     "name": "stdout",
     "output_type": "stream",
     "text": [
      "1, 1\n",
      "1, 2\n",
      "1, 3\n",
      "1, 4\n",
      "1, 5\n",
      "1, 6\n",
      "2, 1\n",
      "2, 2\n",
      "2, 3\n",
      "2, 4\n",
      "2, 5\n",
      "2, 6\n",
      "3, 1\n",
      "3, 2\n",
      "3, 3\n",
      "3, 4\n",
      "3, 5\n",
      "3, 6\n",
      "4, 1\n",
      "4, 2\n",
      "4, 3\n",
      "4, 4\n",
      "4, 5\n",
      "4, 6\n",
      "5, 1\n",
      "5, 2\n",
      "5, 3\n",
      "5, 4\n",
      "5, 5\n",
      "5, 6\n",
      "6, 1\n",
      "6, 2\n",
      "6, 3\n",
      "6, 4\n",
      "6, 5\n",
      "6, 6\n"
     ]
    }
   ],
   "source": [
    "# 🎲 Die faces: 1, 2, 3, 4, 5, 6\n",
    "# TODO: Write code to calculate and display all possible sums\n",
    "# Hint: You may need two nested loops\n",
    "\n",
    "for die1 in range (1, 7):\n",
    "    for die2 in range(1, 7):\n",
    "        print(f\"{die1}, {die2}\")"
   ]
  },
  {
   "cell_type": "markdown",
   "id": "323ac43a",
   "metadata": {},
   "source": [
    "2. Create a fortune teller program. The response \"Try Again\" should appear 40% of the time, while the other possible responses are \"Yes\", \"No\", and \"Maybe\"."
   ]
  },
  {
   "cell_type": "code",
   "execution_count": 10,
   "id": "c608c7e8",
   "metadata": {},
   "outputs": [
    {
     "name": "stdout",
     "output_type": "stream",
     "text": [
      "Try Again\n"
     ]
    }
   ],
   "source": [
    "import random\n",
    "\n",
    "# 🔮 Fortune Teller\n",
    "# TODO: Generate a random number between 1 and 100\n",
    "\n",
    "import random\n",
    "\n",
    "num = random.randint(1,100)\n",
    "\n",
    "if num <= 40:\n",
    "    print(\"Try Again\")\n",
    "elif num <= 60:\n",
    "    print(\"Yes\")\n",
    "elif num <= 80:\n",
    "    print(\"No\")\n",
    "else:\n",
    "    print(\"Maybe\")\n"
   ]
  },
  {
   "cell_type": "markdown",
   "id": "f5f6ad02",
   "metadata": {},
   "source": [
    "3. Create a program that randomly selects a meal from a menu list. For example: \"Pizza\", \"Burger\", \"Salad\", \"Pasta\", \"Sushi\"."
   ]
  },
  {
   "cell_type": "code",
   "execution_count": 24,
   "id": "623d5cec",
   "metadata": {},
   "outputs": [
    {
     "name": "stdout",
     "output_type": "stream",
     "text": [
      "salad\n"
     ]
    }
   ],
   "source": [
    "import random\n",
    "\n",
    "# 🍔 Menu list of meals\n",
    "meals = [\"pizza\", \"burger\", \"salad\", \"pasta\", \"sushi\"]\n",
    "\n",
    "# TODO: Pick one random meal from the list\n",
    "\n",
    "pick = random.choice(meals)\n",
    "\n",
    "print(pick)"
   ]
  },
  {
   "cell_type": "markdown",
   "id": "e230199d",
   "metadata": {},
   "source": [
    "4. Practice using random.choice() and random.shuffle().\n",
    "\n",
    "- Use random.choice() to select one random card from a deck.\n",
    "\n",
    "- Use random.shuffle() to shuffle the entire deck."
   ]
  },
  {
   "cell_type": "code",
   "execution_count": 36,
   "id": "9efcd451",
   "metadata": {},
   "outputs": [
    {
     "name": "stdout",
     "output_type": "stream",
     "text": [
      "random card choice: 8\n",
      "shuffled deck: [5, 6, 9, 2, 4, 10, 3, 1, 8, 7]\n"
     ]
    }
   ],
   "source": [
    "import random\n",
    "\n",
    "# 🃏 Deck of cards (simplified as numbers 1–10 for this example)\n",
    "deck = [1,2,3,4,5,6,7,8,9,10]\n",
    "\n",
    "# TODO: Use random.choice() to pick one card\n",
    "# TODO: Use random.shuffle() to shuffle the deck and print it\n",
    "\n",
    "card = random.choice(deck)\n",
    "print(\"random card choice:\", card)\n",
    "\n",
    "random.shuffle(deck)\n",
    "print(\"shuffled deck:\", deck)\n"
   ]
  }
 ],
 "metadata": {
  "kernelspec": {
   "display_name": "venv",
   "language": "python",
   "name": "python3"
  },
  "language_info": {
   "codemirror_mode": {
    "name": "ipython",
    "version": 3
   },
   "file_extension": ".py",
   "mimetype": "text/x-python",
   "name": "python",
   "nbconvert_exporter": "python",
   "pygments_lexer": "ipython3",
   "version": "3.12.3"
  }
 },
 "nbformat": 4,
 "nbformat_minor": 5
}
